{
 "cells": [
  {
   "cell_type": "code",
   "execution_count": 1,
   "metadata": {
    "collapsed": false
   },
   "outputs": [
    {
     "name": "stdout",
     "output_type": "stream",
     "text": [
      "(39774, 2000)\n"
     ]
    },
    {
     "name": "stderr",
     "output_type": "stream",
     "text": [
      "/usr/local/lib/python2.7/dist-packages/numpy/core/fromnumeric.py:2641: VisibleDeprecationWarning: `rank` is deprecated; use the `ndim` attribute or function instead. To find the rank of a matrix see `numpy.linalg.matrix_rank`.\n",
      "  VisibleDeprecationWarning)\n"
     ]
    }
   ],
   "source": [
    "#Import Packages we will be using \n",
    "import os\n",
    "import re\n",
    "import numpy as np\n",
    "from sklearn.feature_extraction.text import CountVectorizer\n",
    "import pandas as pd\n",
    "from sklearn.ensemble import AdaBoostClassifier\n",
    "\n",
    "from sklearn import preprocessing\n",
    "\n",
    "train = pd.read_json('../data/train.json/train.json')\n",
    "train.head()\n",
    "\n",
    "#Initalize a CountVectorizer only considering the top 2000 features. \n",
    "#Then Extract the ingredients and convert them to a single list of recipes called words_list\n",
    "vectorizer = CountVectorizer(max_features = 2000)\n",
    "ingredients = train['ingredients']\n",
    "words_list = [' '.join(x) for x in ingredients]\n",
    "\n",
    "#create a bag of words and convert to a array and then print the shape\n",
    "bag_of_words = vectorizer.fit(words_list)\n",
    "bag_of_words = vectorizer.transform(words_list).toarray()\n",
    "print(bag_of_words.shape)"
   ]
  },
  {
   "cell_type": "code",
   "execution_count": 11,
   "metadata": {
    "collapsed": false
   },
   "outputs": [
    {
     "data": {
      "text/plain": [
       "AdaBoostClassifier(algorithm='SAMME.R',\n",
       "          base_estimator=DecisionTreeClassifier(compute_importances=None, criterion='gini',\n",
       "            max_depth=1, max_features=None, min_density=None,\n",
       "            min_samples_leaf=1, min_samples_split=2, random_state=None,\n",
       "            splitter='best'),\n",
       "          learning_rate=0.1, n_estimators=400, random_state=None)"
      ]
     },
     "execution_count": 11,
     "metadata": {},
     "output_type": "execute_result"
    }
   ],
   "source": [
    "#Make label encoder\n",
    "le = preprocessing.LabelEncoder()\n",
    "le.fit(train[\"cuisine\"])\n",
    "\n",
    "X = bag_of_words\n",
    "y = le.transform(train[\"cuisine\"])\n",
    "\n",
    "ada_model = AdaBoostClassifier(n_estimators=400,learning_rate=.1)\n",
    "\n",
    "ada_model.fit(X,y)"
   ]
  },
  {
   "cell_type": "code",
   "execution_count": 12,
   "metadata": {
    "collapsed": false
   },
   "outputs": [
    {
     "name": "stdout",
     "output_type": "stream",
     "text": [
      "0.602680142807\n"
     ]
    }
   ],
   "source": [
    "print ada_model.score(X,y)"
   ]
  },
  {
   "cell_type": "code",
   "execution_count": 13,
   "metadata": {
    "collapsed": false
   },
   "outputs": [
    {
     "name": "stdout",
     "output_type": "stream",
     "text": [
      "<type 'dict'>\n"
     ]
    }
   ],
   "source": [
    "#200 with lr=1 best so far\n",
    "params = ada_model.get_params()\n",
    "print type(params)"
   ]
  },
  {
   "cell_type": "code",
   "execution_count": 14,
   "metadata": {
    "collapsed": true
   },
   "outputs": [],
   "source": [
    "import pickle"
   ]
  },
  {
   "cell_type": "code",
   "execution_count": 15,
   "metadata": {
    "collapsed": true
   },
   "outputs": [],
   "source": [
    "pickle.dump( params, open( \"adaboost_model_params.p\", \"wb\" ) )"
   ]
  },
  {
   "cell_type": "code",
   "execution_count": null,
   "metadata": {
    "collapsed": true
   },
   "outputs": [],
   "source": []
  }
 ],
 "metadata": {
  "kernelspec": {
   "display_name": "Python 2",
   "language": "python",
   "name": "python2"
  },
  "language_info": {
   "codemirror_mode": {
    "name": "ipython",
    "version": 2
   },
   "file_extension": ".py",
   "mimetype": "text/x-python",
   "name": "python",
   "nbconvert_exporter": "python",
   "pygments_lexer": "ipython2",
   "version": "2.7.6"
  }
 },
 "nbformat": 4,
 "nbformat_minor": 0
}
